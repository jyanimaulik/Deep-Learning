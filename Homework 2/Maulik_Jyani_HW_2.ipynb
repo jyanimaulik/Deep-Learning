{
  "nbformat": 4,
  "nbformat_minor": 0,
  "metadata": {
    "colab": {
      "provenance": []
    },
    "kernelspec": {
      "name": "python3",
      "display_name": "Python 3"
    },
    "language_info": {
      "name": "python"
    }
  },
  "cells": [
    {
      "cell_type": "markdown",
      "source": [
        "\n",
        "####Step 1. Follow along with the tutorial to gain an understanding of the process"
      ],
      "metadata": {
        "id": "7lKl1hPapXC-"
      }
    },
    {
      "cell_type": "code",
      "source": [
        "import torch\n",
        "import torch.nn as nn\n",
        "import torch.optim as optim\n",
        "import torchvision\n",
        "import torchvision.transforms as transforms\n",
        "from torch.utils.data import DataLoader\n",
        "import matplotlib.pyplot as plt"
      ],
      "metadata": {
        "id": "_BrJE-MSI-Kf"
      },
      "execution_count": 1,
      "outputs": []
    },
    {
      "cell_type": "markdown",
      "source": [
        "Loading the dataset returns four NumPy arrays:\n",
        "\n",
        "The train_images and train_labels arrays are the training set—the data the model uses to learn.\n",
        "The model is tested against the test set, the test_images, and test_labels arrays.\n",
        "The images are 28x28 NumPy arrays, with pixel values ranging from 0 to 255. The labels are an array of integers, ranging from 0 to 9. These correspond to the class of number the image represents:\n",
        "\n",
        "```\n",
        "Label\tClass\n",
        "0\t0\n",
        "1\t1\n",
        "2\t2\n",
        "3\t3\n",
        "4\t4\n",
        "5\t5\n",
        "6\t6\n",
        "7\t7\n",
        "8\t8\n",
        "9\t9\n",
        "```\n",
        "\n",
        "Each image is mapped to a single label. Since the class names are not included with the dataset, store them here to use later when plotting the images:"
      ],
      "metadata": {
        "id": "Gn6_fct7NEO4"
      }
    },
    {
      "cell_type": "markdown",
      "source": [
        "\n",
        "#### Step 2. In a new .ipynb notebook, reproduce the results utilizing the \"QMNIST\" dataset"
      ],
      "metadata": {
        "id": "50rFD7S4pnLB"
      }
    },
    {
      "cell_type": "code",
      "source": [
        "# Load QMNIST dataset and preprocess\n",
        "transform = transforms.Compose([transforms.ToTensor(), transforms.Normalize((0.5,), (0.5,))])\n",
        "train_dataset = torchvision.datasets.QMNIST(root='./data', train=True, download=True, transform=transform)\n",
        "test_dataset = torchvision.datasets.QMNIST(root='./data', train=False, download=True, transform=transform)\n",
        "\n",
        "# Create data loaders\n",
        "train_loader = DataLoader(train_dataset, batch_size=64, shuffle=True)\n",
        "test_loader = DataLoader(test_dataset, batch_size=64, shuffle=False)"
      ],
      "metadata": {
        "id": "iKpUkd41Jtf4"
      },
      "execution_count": 20,
      "outputs": []
    },
    {
      "cell_type": "markdown",
      "source": [
        "## Iterating and Visualizing the Dataset"
      ],
      "metadata": {
        "id": "A00skpJDS3r1"
      }
    },
    {
      "cell_type": "code",
      "source": [
        "labels_map = {\n",
        "    0: \"0\",\n",
        "    1: \"1\",\n",
        "    2: \"2\",\n",
        "    3: \"3\",\n",
        "    4: \"4\",\n",
        "    5: \"5\",\n",
        "    6: \"6\",\n",
        "    7: \"7\",\n",
        "    8: \"8\",\n",
        "    9: \"9\",\n",
        "}\n",
        "figure = plt.figure(figsize=(8, 8))\n",
        "cols, rows = 3, 3\n",
        "for i in range(1, cols * rows + 1):\n",
        "    sample_idx = torch.randint(len(train_dataset), size=(1,)).item()\n",
        "    img, label = train_dataset[sample_idx]\n",
        "    figure.add_subplot(rows, cols, i)\n",
        "    plt.title(labels_map[label])\n",
        "    plt.axis(\"off\")\n",
        "    plt.imshow(img.squeeze(), cmap=\"gray\")\n",
        "plt.show()"
      ],
      "metadata": {
        "colab": {
          "base_uri": "https://localhost:8080/",
          "height": 675
        },
        "id": "1aTWwvPVSEQn",
        "outputId": "e9d4cc8a-0cab-44f6-b948-6bd64d1d2a93"
      },
      "execution_count": 21,
      "outputs": [
        {
          "output_type": "display_data",
          "data": {
            "text/plain": [
              "<Figure size 800x800 with 9 Axes>"
            ],
            "image/png": "[encoded data removed]"
          },
          "metadata": {}
        }
      ]
    },
    {
      "cell_type": "code",
      "source": [
        "#Test DataSet\n",
        "figure = plt.figure(figsize=(8, 8))\n",
        "cols, rows = 3, 3\n",
        "for i in range(1, cols * rows + 1):\n",
        "    sample_idx = torch.randint(len(test_dataset), size=(1,)).item()\n",
        "    img, label = test_dataset[sample_idx]\n",
        "    figure.add_subplot(rows, cols, i)\n",
        "    plt.title(labels_map[label])\n",
        "    plt.axis(\"off\")\n",
        "    plt.imshow(img.squeeze(), cmap=\"gray\")\n",
        "plt.show()"
      ],
      "metadata": {
        "colab": {
          "base_uri": "https://localhost:8080/",
          "height": 675
        },
        "id": "0bu-_rukSu77",
        "outputId": "172f812f-8a03-4787-8475-9be988d98be4"
      },
      "execution_count": 22,
      "outputs": [
        {
          "output_type": "display_data",
          "data": {
            "text/plain": [
              "<Figure size 800x800 with 9 Axes>"
            ],
            "image/png": "[encoded data removed]"
          },
          "metadata": {}
        }
      ]
    },
    {
      "cell_type": "code",
      "source": [
        "#Define the neural network architecture\n",
        "class MLP(nn.Module):\n",
        "    def __init__(self):\n",
        "        super(MLP, self).__init__()\n",
        "        self.fc1 = nn.Linear(28 * 28, 128)\n",
        "        self.fc2 = nn.Linear(128, 64)\n",
        "        self.fc3 = nn.Linear(64, 10)\n",
        "\n",
        "    def forward(self, x):\n",
        "        x = x.view(-1, 28 * 28)\n",
        "        x = torch.relu(self.fc1(x))\n",
        "        x = torch.relu(self.fc2(x))\n",
        "        x = self.fc3(x)\n",
        "        return x\n",
        "\n",
        "# Initialize the neural network\n",
        "model = MLP()"
      ],
      "metadata": {
        "id": "eBt_6_T0JxRZ"
      },
      "execution_count": 23,
      "outputs": []
    },
    {
      "cell_type": "code",
      "source": [
        "# Define the loss function and optimizer\n",
        "criterion = nn.CrossEntropyLoss()\n",
        "optimizer = optim.Adam(model.parameters(), lr=0.001)\n",
        "\n",
        "# Train the neural network\n",
        "num_epochs = 5\n",
        "for epoch in range(num_epochs):\n",
        "    model.train()\n",
        "    running_loss = 0.0\n",
        "    correct_train = 0\n",
        "    total_train = 0\n",
        "    for i, data in enumerate(train_loader, 0):\n",
        "        inputs, labels = data\n",
        "        optimizer.zero_grad()\n",
        "        outputs = model(inputs)\n",
        "        loss = criterion(outputs, labels)\n",
        "        loss.backward()\n",
        "        optimizer.step()\n",
        "        running_loss += loss.item()\n",
        "\n",
        "        _, predicted_train = torch.max(outputs.data, 1)\n",
        "        total_train += labels.size(0)\n",
        "        correct_train += (predicted_train == labels).sum().item()\n",
        "\n",
        "\n",
        "        if i % 100 == 99:  # print every 100 mini-batches\n",
        "            print(f'Epoch {epoch + 1}, Batch {i + 1}, Loss: {running_loss / 100}')\n",
        "            running_loss = 0.0\n",
        "\n",
        "    train_accuracy = 100 * correct_train / total_train\n",
        "    print(f'Accuracy on the training set after epoch {epoch + 1}: {train_accuracy:.2f}%')\n",
        "\n",
        "print('Finished Training')"
      ],
      "metadata": {
        "id": "i7LOPbrkJ3Pi",
        "outputId": "869f8fc7-3663-4c79-f64a-835890016118",
        "colab": {
          "base_uri": "https://localhost:8080/"
        }
      },
      "execution_count": 24,
      "outputs": [
        {
          "output_type": "stream",
          "name": "stdout",
          "text": [
            "Epoch 1, Batch 100, Loss: 1.0647187918424605\n",
            "Epoch 1, Batch 200, Loss: 0.4331596396863461\n",
            "Epoch 1, Batch 300, Loss: 0.39586752831935884\n",
            "Epoch 1, Batch 400, Loss: 0.3470181566476822\n",
            "Epoch 1, Batch 500, Loss: 0.3282723379135132\n",
            "Epoch 1, Batch 600, Loss: 0.3012372525036335\n",
            "Epoch 1, Batch 700, Loss: 0.28048172511160374\n",
            "Epoch 1, Batch 800, Loss: 0.2345068485289812\n",
            "Epoch 1, Batch 900, Loss: 0.23875800766050814\n",
            "Accuracy on the training set after epoch 1: 88.31%\n",
            "Epoch 2, Batch 100, Loss: 0.22510195903480054\n",
            "Epoch 2, Batch 200, Loss: 0.21359145153313874\n",
            "Epoch 2, Batch 300, Loss: 0.19438791748136283\n",
            "Epoch 2, Batch 400, Loss: 0.20368424601852894\n",
            "Epoch 2, Batch 500, Loss: 0.1913504634425044\n",
            "Epoch 2, Batch 600, Loss: 0.17522815708070993\n",
            "Epoch 2, Batch 700, Loss: 0.1738713588565588\n",
            "Epoch 2, Batch 800, Loss: 0.17476008828729392\n",
            "Epoch 2, Batch 900, Loss: 0.16763769015669822\n",
            "Accuracy on the training set after epoch 2: 94.23%\n",
            "Epoch 3, Batch 100, Loss: 0.15171813625842334\n",
            "Epoch 3, Batch 200, Loss: 0.13960971139371395\n",
            "Epoch 3, Batch 300, Loss: 0.12851860623806716\n",
            "Epoch 3, Batch 400, Loss: 0.14718064926564695\n",
            "Epoch 3, Batch 500, Loss: 0.13401397950947286\n",
            "Epoch 3, Batch 600, Loss: 0.14764869250357152\n",
            "Epoch 3, Batch 700, Loss: 0.12959107521921395\n",
            "Epoch 3, Batch 800, Loss: 0.13915023449808359\n",
            "Epoch 3, Batch 900, Loss: 0.13496887385845185\n",
            "Accuracy on the training set after epoch 3: 95.79%\n",
            "Epoch 4, Batch 100, Loss: 0.12722024362534284\n",
            "Epoch 4, Batch 200, Loss: 0.10582559124566615\n",
            "Epoch 4, Batch 300, Loss: 0.11645595388486982\n",
            "Epoch 4, Batch 400, Loss: 0.11553715514950454\n",
            "Epoch 4, Batch 500, Loss: 0.10217409635894001\n",
            "Epoch 4, Batch 600, Loss: 0.09695908958092332\n",
            "Epoch 4, Batch 700, Loss: 0.10945329803042114\n",
            "Epoch 4, Batch 800, Loss: 0.11112277001142502\n",
            "Epoch 4, Batch 900, Loss: 0.11099918899126351\n",
            "Accuracy on the training set after epoch 4: 96.61%\n",
            "Epoch 5, Batch 100, Loss: 0.09216287777759134\n",
            "Epoch 5, Batch 200, Loss: 0.09584043356589973\n",
            "Epoch 5, Batch 300, Loss: 0.08920329231768846\n",
            "Epoch 5, Batch 400, Loss: 0.09052285042591393\n",
            "Epoch 5, Batch 500, Loss: 0.08967826576903462\n",
            "Epoch 5, Batch 600, Loss: 0.09911063991487026\n",
            "Epoch 5, Batch 700, Loss: 0.11047874020412564\n",
            "Epoch 5, Batch 800, Loss: 0.09815494719892741\n",
            "Epoch 5, Batch 900, Loss: 0.09613530495204031\n",
            "Accuracy on the training set after epoch 5: 97.04%\n",
            "Finished Training\n"
          ]
        }
      ]
    },
    {
      "cell_type": "code",
      "source": [
        "# Evaluate the model\n",
        "model.eval()\n",
        "correct = 0\n",
        "total = 0\n",
        "with torch.no_grad():\n",
        "    for data in test_loader:\n",
        "        images, labels = data\n",
        "        outputs = model(images)\n",
        "        _, predicted = torch.max(outputs.data, 1)\n",
        "        total += labels.size(0)\n",
        "        correct += (predicted == labels).sum().item()\n",
        "\n",
        "print(f'Accuracy on test set: { 100*correct / total:.2f}%')"
      ],
      "metadata": {
        "id": "3DXPLgQJJ6Aq",
        "outputId": "66bc5d2c-ec1d-4d00-848e-0c38daffaf40",
        "colab": {
          "base_uri": "https://localhost:8080/"
        }
      },
      "execution_count": 26,
      "outputs": [
        {
          "output_type": "stream",
          "name": "stdout",
          "text": [
            "Accuracy on test set: 95.66%\n"
          ]
        }
      ]
    },
    {
      "cell_type": "markdown",
      "source": [
        "####**Step 3. Report on the results in terms of prediction accuracy on the train and test datasets**\n",
        "\n"
      ],
      "metadata": {
        "id": "3wsthpp0pM0C"
      }
    },
    {
      "cell_type": "markdown",
      "source": [
        "The loss started at about 1.0647 in the first batch of the first epoch and consistently decreased across epochs, showing that the model is learning from the training data effectively.\n",
        "\n",
        "The accuracy on the training set increased from 88.31% after the first epoch to 97.04% after the fifth epoch, indicating a strong learning capability of the model to generalize over the training dataset.\n",
        "\n",
        "The model achieved an accuracy of 95.66% on the test set, which is quite high and suggests that the model generalizes well to new, unseen data."
      ],
      "metadata": {
        "id": "AtXiiOEkigKb"
      }
    },
    {
      "cell_type": "code",
      "source": [
        "# Evaluate the model and store predictions\n",
        "model.eval()\n",
        "predictions = []\n",
        "correct = 0\n",
        "total = 0\n",
        "with torch.no_grad():\n",
        "    for data in test_loader:\n",
        "        images, labels = data\n",
        "        outputs = model(images)\n",
        "        _, predicted = torch.max(outputs.data, 1)\n",
        "        predictions.extend(predicted.numpy())  # Store predictions\n",
        "        total += labels.size(0)\n",
        "        correct += (predicted == labels).sum().item()"
      ],
      "metadata": {
        "id": "E1nluT6ALxSX"
      },
      "execution_count": 10,
      "outputs": []
    },
    {
      "cell_type": "code",
      "source": [
        "# Get one test image and its label\n",
        "image, label = images[1], labels[1]\n",
        "\n",
        "# Reshape the image tensor to a 28x28 shape\n",
        "image = image.view(28, 28)\n",
        "\n",
        "# Convert the image tensor to a numpy array for visualization\n",
        "image_numpy = image.numpy()\n",
        "\n",
        "# Show the image\n",
        "plt.imshow(image_numpy, cmap='gray')\n",
        "plt.title(f'Predicted Label: {predictions[1]}, Actual Label: {label.item()}')\n",
        "plt.axis('off')\n",
        "plt.show()"
      ],
      "metadata": {
        "id": "MvdJMXaMMvUD",
        "outputId": "567de0d3-84b3-4fb7-9bb8-826c9c8241dd",
        "colab": {
          "base_uri": "https://localhost:8080/",
          "height": 428
        }
      },
      "execution_count": 11,
      "outputs": [
        {
          "output_type": "display_data",
          "data": {
            "text/plain": [
              "<Figure size 640x480 with 1 Axes>"
            ],
            "image/png": "[encoded data removed]"
          },
          "metadata": {}
        }
      ]
    },
    {
      "cell_type": "markdown",
      "source": [
        "#### **Step 4. Choose one of the proposed modifications below:**\n",
        "\n",
        "1. Add another Dense layer of 128 nodes\n",
        "\n",
        "2. Increase the current number of nodes in the layer to 256\n",
        "\n",
        "**Hypothesize how it would change the performance results**\n",
        "\n",
        "Adding an additional dense layer of 128 nodes to the neural network model is likely to increase the model's capacity to learn from the training data, potentially capturing more complex patterns. This could lead to improved generalization on the test set, though it may also increase the risk of overfitting if not properly regulated with techniques such as dropout or more data."
      ],
      "metadata": {
        "id": "yY4R0DQw59QV"
      }
    },
    {
      "cell_type": "code",
      "source": [
        "class ModifiedMLP(nn.Module):\n",
        "    def __init__(self):\n",
        "        super(ModifiedMLP, self).__init__()\n",
        "        self.fc1 = nn.Linear(28 * 28, 128)\n",
        "        self.fc2 = nn.Linear(128, 128)  # Added another Dense layer of 128 nodes\n",
        "        self.fc3 = nn.Linear(128, 64)\n",
        "        self.fc4 = nn.Linear(64, 10)    # This is the output layer\n",
        "\n",
        "    def forward(self, x):\n",
        "        x = x.view(-1, 28 * 28)\n",
        "        x = torch.relu(self.fc1(x))\n",
        "        x = torch.relu(self.fc2(x))\n",
        "        x = torch.relu(self.fc3(x))\n",
        "        x = self.fc4(x)\n",
        "        return x\n",
        "\n",
        "# Initialize the modified neural network, loss function, and optimizer\n",
        "model = ModifiedMLP()\n",
        "criterion = nn.CrossEntropyLoss()\n",
        "optimizer = optim.Adam(model.parameters(), lr=0.001)"
      ],
      "metadata": {
        "id": "NWcUP47H0gER"
      },
      "execution_count": 27,
      "outputs": []
    },
    {
      "cell_type": "markdown",
      "source": [
        "#### **Step 5. Modify the model based on the chosen method and train**"
      ],
      "metadata": {
        "id": "LI3RmmsXbmpn"
      }
    },
    {
      "cell_type": "code",
      "source": [
        "# Train the modified neural network\n",
        "num_epochs = 5\n",
        "for epoch in range(num_epochs):\n",
        "    model.train()\n",
        "    running_loss = 0.0\n",
        "    total_train = 0\n",
        "    correct_train = 0\n",
        "    for i, data in enumerate(train_loader, 0):\n",
        "        inputs, labels = data\n",
        "        optimizer.zero_grad()\n",
        "        outputs = model(inputs)\n",
        "        loss = criterion(outputs, labels)\n",
        "        loss.backward()\n",
        "        optimizer.step()\n",
        "        running_loss += loss.item()\n",
        "\n",
        "        _, predicted_train = torch.max(outputs.data, 1)\n",
        "        total_train += labels.size(0)\n",
        "        correct_train += (predicted_train == labels).sum().item()\n",
        "\n",
        "        if i % 100 == 99:  # print every 100 mini-batches\n",
        "            print(f'Epoch {epoch + 1}, Batch {i + 1}, Loss: {running_loss / 100}')\n",
        "            running_loss = 0.0\n",
        "\n",
        "    train_accuracy = 100 * correct_train / total_train\n",
        "    print(f'Accuracy on the training set after epoch {epoch + 1}: {train_accuracy:.2f}%')\n",
        "\n",
        "print('Finished Training')"
      ],
      "metadata": {
        "colab": {
          "base_uri": "https://localhost:8080/"
        },
        "id": "OyVWO2k84WFX",
        "outputId": "bb4d8831-3b54-42de-fb71-e4810409a8ab"
      },
      "execution_count": 28,
      "outputs": [
        {
          "output_type": "stream",
          "name": "stdout",
          "text": [
            "Epoch 1, Batch 100, Loss: 1.1518207344412803\n",
            "Epoch 1, Batch 200, Loss: 0.4678224919736385\n",
            "Epoch 1, Batch 300, Loss: 0.36411194890737536\n",
            "Epoch 1, Batch 400, Loss: 0.3645415227115154\n",
            "Epoch 1, Batch 500, Loss: 0.3122816780954599\n",
            "Epoch 1, Batch 600, Loss: 0.28095533601939676\n",
            "Epoch 1, Batch 700, Loss: 0.26217990785837175\n",
            "Epoch 1, Batch 800, Loss: 0.25731197811663153\n",
            "Epoch 1, Batch 900, Loss: 0.2311330410093069\n",
            "Accuracy on the training set after epoch 1: 87.44%\n",
            "Epoch 2, Batch 100, Loss: 0.2064758674427867\n",
            "Epoch 2, Batch 200, Loss: 0.1925704189389944\n",
            "Epoch 2, Batch 300, Loss: 0.182893435806036\n",
            "Epoch 2, Batch 400, Loss: 0.19951093584299087\n",
            "Epoch 2, Batch 500, Loss: 0.1947770408913493\n",
            "Epoch 2, Batch 600, Loss: 0.15584499422460796\n",
            "Epoch 2, Batch 700, Loss: 0.18260477535426617\n",
            "Epoch 2, Batch 800, Loss: 0.17516744967550038\n",
            "Epoch 2, Batch 900, Loss: 0.16811372108757497\n",
            "Accuracy on the training set after epoch 2: 94.31%\n",
            "Epoch 3, Batch 100, Loss: 0.1321078266762197\n",
            "Epoch 3, Batch 200, Loss: 0.14122210036963223\n",
            "Epoch 3, Batch 300, Loss: 0.14042082330211997\n",
            "Epoch 3, Batch 400, Loss: 0.11334264470264316\n",
            "Epoch 3, Batch 500, Loss: 0.15449972171336412\n",
            "Epoch 3, Batch 600, Loss: 0.13991954123601316\n",
            "Epoch 3, Batch 700, Loss: 0.14692056450992821\n",
            "Epoch 3, Batch 800, Loss: 0.12826428366824985\n",
            "Epoch 3, Batch 900, Loss: 0.11165031374432147\n",
            "Accuracy on the training set after epoch 3: 95.83%\n",
            "Epoch 4, Batch 100, Loss: 0.10354061442427337\n",
            "Epoch 4, Batch 200, Loss: 0.09928945294581354\n",
            "Epoch 4, Batch 300, Loss: 0.1183869501762092\n",
            "Epoch 4, Batch 400, Loss: 0.10766809783875943\n",
            "Epoch 4, Batch 500, Loss: 0.11588665719144046\n",
            "Epoch 4, Batch 600, Loss: 0.11912570260465145\n",
            "Epoch 4, Batch 700, Loss: 0.11479128918610514\n",
            "Epoch 4, Batch 800, Loss: 0.10025306088849902\n",
            "Epoch 4, Batch 900, Loss: 0.09879011413082481\n",
            "Accuracy on the training set after epoch 4: 96.58%\n",
            "Epoch 5, Batch 100, Loss: 0.1008938311971724\n",
            "Epoch 5, Batch 200, Loss: 0.08926700209267438\n",
            "Epoch 5, Batch 300, Loss: 0.09721072770655155\n",
            "Epoch 5, Batch 400, Loss: 0.0971324233431369\n",
            "Epoch 5, Batch 500, Loss: 0.09037559432908893\n",
            "Epoch 5, Batch 600, Loss: 0.10118031787686049\n",
            "Epoch 5, Batch 700, Loss: 0.08783973162993788\n",
            "Epoch 5, Batch 800, Loss: 0.10696654782630503\n",
            "Epoch 5, Batch 900, Loss: 0.09745796194300055\n",
            "Accuracy on the training set after epoch 5: 96.93%\n",
            "Finished Training\n"
          ]
        }
      ]
    },
    {
      "cell_type": "code",
      "source": [
        "# Evaluate the modified model on the test set\n",
        "model.eval()\n",
        "correct = 0\n",
        "total = 0\n",
        "with torch.no_grad():\n",
        "    for data in test_loader:\n",
        "        images, labels = data\n",
        "        outputs = model(images)\n",
        "        _, predicted = torch.max(outputs.data, 1)\n",
        "        total += labels.size(0)\n",
        "        correct += (predicted == labels).sum().item()\n",
        "\n",
        "accuracy = 100 * correct / total\n",
        "print(f'Accuracy on test set with modified model: {accuracy:.2f}%')"
      ],
      "metadata": {
        "colab": {
          "base_uri": "https://localhost:8080/"
        },
        "id": "SH0WE8SLb2em",
        "outputId": "544a330c-7eab-4430-80ad-1b809d6e5cd7"
      },
      "execution_count": 30,
      "outputs": [
        {
          "output_type": "stream",
          "name": "stdout",
          "text": [
            "Accuracy on test set with modified model: 96.56%\n"
          ]
        }
      ]
    },
    {
      "cell_type": "markdown",
      "source": [
        "#### **Step 6. Report on the results of the modified model and if it matches your hypothesis**\n",
        "\n",
        "The results of the modified model, which included an additional dense layer of 128 nodes, showed an improvement in test set accuracy from 95.66% to 96.56%. This indicates that the model's ability to generalize to unseen data was enhanced by the modification. The training set accuracy slightly decreased from 97.04% to 96.93%, which is a minimal change, suggesting that the added complexity did not significantly hinder the model's performance on the training data.\n",
        "\n",
        "These results match the initial hypothesis that adding an additional dense layer could improve the model's capacity to capture more complex patterns, potentially leading to better generalization on the test set. The observed increase in test accuracy confirms this hypothesis, demonstrating that the additional layer contributed positively to the model's performance, without causing a notable overfitting issue as indicated by the relatively stable training accuracy."
      ],
      "metadata": {
        "id": "Igasih_YoBWg"
      }
    },
    {
      "cell_type": "markdown",
      "source": [
        "#### Step 7. Experiment with different optimizers, loss functions, dropout, and activation functions, and observe the change in performance as you tune these hyperparameters."
      ],
      "metadata": {
        "id": "gRHNb81z4Wjg"
      }
    },
    {
      "cell_type": "code",
      "source": [
        "class ExperimentMLP(nn.Module):\n",
        "    def __init__(self):\n",
        "        super(ExperimentMLP, self).__init__()\n",
        "        self.fc1 = nn.Linear(28 * 28, 128)\n",
        "        self.bn1 = nn.BatchNorm1d(128)\n",
        "        self.fc2 = nn.Linear(128, 128)\n",
        "        self.bn2 = nn.BatchNorm1d(128)\n",
        "        self.fc3 = nn.Linear(128, 64)\n",
        "        self.bn3 = nn.BatchNorm1d(64)\n",
        "        self.fc4 = nn.Linear(64, 10)\n",
        "        # Note: No batch normalization before the output layer\n",
        "\n",
        "    def forward(self, x):\n",
        "        x = x.view(-1, 28 * 28)\n",
        "        x = torch.nn.functional.leaky_relu(self.bn1(self.fc1(x)))\n",
        "        x = torch.nn.functional.leaky_relu(self.bn2(self.fc2(x)))\n",
        "        x = torch.nn.functional.leaky_relu(self.bn3(self.fc3(x)))\n",
        "        x = self.fc4(x)\n",
        "        return x\n",
        "\n",
        "# Initialize the advanced neural network\n",
        "model = ExperimentMLP()\n",
        "\n",
        "# Define the optimizer and loss function\n",
        "optimizer = optim.Adam(model.parameters(), lr=0.001)\n",
        "criterion = nn.CrossEntropyLoss()\n",
        "\n",
        "# Define a learning rate scheduler\n",
        "scheduler = torch.optim.lr_scheduler.StepLR(optimizer, step_size=1, gamma=0.9)\n"
      ],
      "metadata": {
        "id": "3y0iaxVJ4ZIa"
      },
      "execution_count": 32,
      "outputs": []
    },
    {
      "cell_type": "code",
      "source": [
        "num_epochs = 5\n",
        "for epoch in range(num_epochs):\n",
        "    model.train()\n",
        "    running_loss = 0.0\n",
        "    total_train = 0\n",
        "    correct_train = 0\n",
        "    for i, data in enumerate(train_loader, 0):\n",
        "        inputs, labels = data\n",
        "        optimizer.zero_grad()\n",
        "        outputs = model(inputs)\n",
        "        loss = criterion(outputs, labels)\n",
        "        loss.backward()\n",
        "        optimizer.step()\n",
        "        running_loss += loss.item()\n",
        "\n",
        "        _, predicted_train = torch.max(outputs.data, 1)\n",
        "        total_train += labels.size(0)\n",
        "        correct_train += (predicted_train == labels).sum().item()\n",
        "\n",
        "        if i % 100 == 99:  # print every 100 mini-batches\n",
        "            print(f'Epoch {epoch + 1}, Batch {i + 1}, Loss: {running_loss / 100}')\n",
        "            running_loss = 0.0\n",
        "    scheduler.step()  # Update the learning rate\n",
        "\n",
        "    train_accuracy = 100 * correct_train / total_train\n",
        "    print(f'Accuracy on the training set after epoch {epoch + 1}: {train_accuracy:.2f}%')\n",
        "\n",
        "print('Finished Training')"
      ],
      "metadata": {
        "colab": {
          "base_uri": "https://localhost:8080/"
        },
        "id": "_iwaDqlQ4ebc",
        "outputId": "b109b99e-4630-4d52-b88e-bd8c5db35387"
      },
      "execution_count": 33,
      "outputs": [
        {
          "output_type": "stream",
          "name": "stdout",
          "text": [
            "Epoch 1, Batch 100, Loss: 0.8169256579875946\n",
            "Epoch 1, Batch 200, Loss: 0.3075244626402855\n",
            "Epoch 1, Batch 300, Loss: 0.2289151883870363\n",
            "Epoch 1, Batch 400, Loss: 0.17695816826075317\n",
            "Epoch 1, Batch 500, Loss: 0.1840629857033491\n",
            "Epoch 1, Batch 600, Loss: 0.15942009396851062\n",
            "Epoch 1, Batch 700, Loss: 0.14891530893743038\n",
            "Epoch 1, Batch 800, Loss: 0.13789904031902553\n",
            "Epoch 1, Batch 900, Loss: 0.12952329283580183\n",
            "Accuracy on the training set after epoch 1: 93.55%\n",
            "Epoch 2, Batch 100, Loss: 0.09563201582990587\n",
            "Epoch 2, Batch 200, Loss: 0.0935482428688556\n",
            "Epoch 2, Batch 300, Loss: 0.08770967199467122\n",
            "Epoch 2, Batch 400, Loss: 0.09892081341706216\n",
            "Epoch 2, Batch 500, Loss: 0.10311991262249648\n",
            "Epoch 2, Batch 600, Loss: 0.07921625660732388\n",
            "Epoch 2, Batch 700, Loss: 0.0913521798606962\n",
            "Epoch 2, Batch 800, Loss: 0.0885857748799026\n",
            "Epoch 2, Batch 900, Loss: 0.09723982211202382\n",
            "Accuracy on the training set after epoch 2: 97.21%\n",
            "Epoch 3, Batch 100, Loss: 0.05827454072423279\n",
            "Epoch 3, Batch 200, Loss: 0.06376532087568193\n",
            "Epoch 3, Batch 300, Loss: 0.06659503526519985\n",
            "Epoch 3, Batch 400, Loss: 0.07230142020620406\n",
            "Epoch 3, Batch 500, Loss: 0.0715110483719036\n",
            "Epoch 3, Batch 600, Loss: 0.0713935224339366\n",
            "Epoch 3, Batch 700, Loss: 0.06547715806402266\n",
            "Epoch 3, Batch 800, Loss: 0.06803660687524825\n",
            "Epoch 3, Batch 900, Loss: 0.060446417764760556\n",
            "Accuracy on the training set after epoch 3: 97.97%\n",
            "Epoch 4, Batch 100, Loss: 0.04859287364874035\n",
            "Epoch 4, Batch 200, Loss: 0.040648021372035145\n",
            "Epoch 4, Batch 300, Loss: 0.04525824687909335\n",
            "Epoch 4, Batch 400, Loss: 0.05062767544994131\n",
            "Epoch 4, Batch 500, Loss: 0.05392270383425057\n",
            "Epoch 4, Batch 600, Loss: 0.05376185818109661\n",
            "Epoch 4, Batch 700, Loss: 0.04602237078826874\n",
            "Epoch 4, Batch 800, Loss: 0.048490687562152746\n",
            "Epoch 4, Batch 900, Loss: 0.048038237888831645\n",
            "Accuracy on the training set after epoch 4: 98.43%\n",
            "Epoch 5, Batch 100, Loss: 0.03351719607249834\n",
            "Epoch 5, Batch 200, Loss: 0.030703102354891598\n",
            "Epoch 5, Batch 300, Loss: 0.03755980045767501\n",
            "Epoch 5, Batch 400, Loss: 0.039596500839106735\n",
            "Epoch 5, Batch 500, Loss: 0.04037420414155349\n",
            "Epoch 5, Batch 600, Loss: 0.04314081778633408\n",
            "Epoch 5, Batch 700, Loss: 0.036050930509809405\n",
            "Epoch 5, Batch 800, Loss: 0.03987620570929721\n",
            "Epoch 5, Batch 900, Loss: 0.042220668529625985\n",
            "Accuracy on the training set after epoch 5: 98.74%\n",
            "Finished Training\n"
          ]
        }
      ]
    },
    {
      "cell_type": "code",
      "source": [
        "# Evaluate the modified model on the test set\n",
        "model.eval()\n",
        "correct = 0\n",
        "total = 0\n",
        "with torch.no_grad():\n",
        "    for data in test_loader:\n",
        "        images, labels = data\n",
        "        outputs = model(images)\n",
        "        _, predicted = torch.max(outputs.data, 1)\n",
        "        total += labels.size(0)\n",
        "        correct += (predicted == labels).sum().item()\n",
        "\n",
        "accuracy = 100 * correct / total\n",
        "print(f'Accuracy on test set with modified model: {accuracy:.2f}%')"
      ],
      "metadata": {
        "colab": {
          "base_uri": "https://localhost:8080/"
        },
        "id": "_Eqav8DI40Hg",
        "outputId": "3d81679c-8b04-4a73-d8ed-2ecca1851562"
      },
      "execution_count": 34,
      "outputs": [
        {
          "output_type": "stream",
          "name": "stdout",
          "text": [
            "Accuracy on test set with modified model: 97.58%\n"
          ]
        }
      ]
    },
    {
      "cell_type": "markdown",
      "source": [
        "The ExperimentMLP model introduced batch normalization and Leaky ReLU activation functions, along with an Adam optimizer and a learning rate scheduler, significantly enhancing the model's performance. Training accuracy improved steadily, reaching 98.74% by the fifth epoch, while test accuracy increased to 97.58%. These modifications, particularly batch normalization and Leaky ReLU, contributed to more effective learning and better generalization to unseen data, demonstrating the impact of carefully chosen hyperparameters and architectural adjustments on neural network performance."
      ],
      "metadata": {
        "id": "joSjQ50p5jKV"
      }
    }
  ]
}